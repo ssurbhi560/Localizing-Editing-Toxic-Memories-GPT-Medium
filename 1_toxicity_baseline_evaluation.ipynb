{
  "cells": [
    {
      "cell_type": "code",
      "execution_count": null,
      "metadata": {
        "collapsed": true,
        "id": "9rIgXHPmC-75"
      },
      "outputs": [],
      "source": [
        "!pip install -q transformers accelerate detoxify datasets"
      ]
    },
    {
      "cell_type": "code",
      "execution_count": null,
      "metadata": {
        "id": "M5N8oHmlD8uh"
      },
      "outputs": [],
      "source": [
        "from huggingface_hub import login\n",
        "login(token=\"##################\")"
      ]
    },
    {
      "cell_type": "code",
      "execution_count": null,
      "metadata": {
        "colab": {
          "base_uri": "https://localhost:8080/"
        },
        "id": "yPJccBJLCZ_X",
        "outputId": "33cdf5bd-cfa9-43ea-9c69-9a7675dbf109"
      },
      "outputs": [
        {
          "name": "stdout",
          "output_type": "stream",
          "text": [
            "Drive already mounted at /content/drive; to attempt to forcibly remount, call drive.mount(\"/content/drive\", force_remount=True).\n"
          ]
        }
      ],
      "source": [
        "# mount google drive\n",
        "from google.colab import drive\n",
        "drive.mount('/content/drive')"
      ]
    },
    {
      "cell_type": "code",
      "execution_count": null,
      "metadata": {
        "id": "CEjzFEJLC77T"
      },
      "outputs": [],
      "source": [
        "import torch\n",
        "from transformers import AutoTokenizer, AutoModelForCausalLM, pipeline\n",
        "from detoxify import Detoxify\n",
        "from datasets import load_dataset\n",
        "import random\n",
        "import json\n",
        "from tqdm import tqdm"
      ]
    },
    {
      "cell_type": "code",
      "execution_count": null,
      "metadata": {
        "colab": {
          "base_uri": "https://localhost:8080/"
        },
        "id": "3zuRJk0ADKnY",
        "outputId": "c44378e2-238b-4e22-d8b6-01d60c027d62"
      },
      "outputs": [
        {
          "name": "stdout",
          "output_type": "stream",
          "text": [
            "Using device: cuda\n"
          ]
        }
      ],
      "source": [
        "device = torch.device(\"cuda\" if torch.cuda.is_available() else \"cpu\")\n",
        "print(\"Using device:\", device)"
      ]
    },
    {
      "cell_type": "code",
      "execution_count": null,
      "metadata": {
        "colab": {
          "base_uri": "https://localhost:8080/"
        },
        "id": "HTBCvMqcDPJw",
        "outputId": "f62e09e2-2448-4486-9b67-bf8c9f8b3e29"
      },
      "outputs": [
        {
          "name": "stderr",
          "output_type": "stream",
          "text": [
            "/usr/local/lib/python3.11/dist-packages/huggingface_hub/utils/_auth.py:94: UserWarning: \n",
            "The secret `HF_TOKEN` does not exist in your Colab secrets.\n",
            "To authenticate with the Hugging Face Hub, create a token in your settings tab (https://huggingface.co/settings/tokens), set it as secret in your Google Colab and restart your session.\n",
            "You will be able to reuse this secret in all of your notebooks.\n",
            "Please note that authentication is recommended but still optional to access public models or datasets.\n",
            "  warnings.warn(\n"
          ]
        },
        {
          "data": {
            "text/plain": [
              "GPT2LMHeadModel(\n",
              "  (transformer): GPT2Model(\n",
              "    (wte): Embedding(50257, 1024)\n",
              "    (wpe): Embedding(1024, 1024)\n",
              "    (drop): Dropout(p=0.1, inplace=False)\n",
              "    (h): ModuleList(\n",
              "      (0-23): 24 x GPT2Block(\n",
              "        (ln_1): LayerNorm((1024,), eps=1e-05, elementwise_affine=True)\n",
              "        (attn): GPT2Attention(\n",
              "          (c_attn): Conv1D(nf=3072, nx=1024)\n",
              "          (c_proj): Conv1D(nf=1024, nx=1024)\n",
              "          (attn_dropout): Dropout(p=0.1, inplace=False)\n",
              "          (resid_dropout): Dropout(p=0.1, inplace=False)\n",
              "        )\n",
              "        (ln_2): LayerNorm((1024,), eps=1e-05, elementwise_affine=True)\n",
              "        (mlp): GPT2MLP(\n",
              "          (c_fc): Conv1D(nf=4096, nx=1024)\n",
              "          (c_proj): Conv1D(nf=1024, nx=4096)\n",
              "          (act): NewGELUActivation()\n",
              "          (dropout): Dropout(p=0.1, inplace=False)\n",
              "        )\n",
              "      )\n",
              "    )\n",
              "    (ln_f): LayerNorm((1024,), eps=1e-05, elementwise_affine=True)\n",
              "  )\n",
              "  (lm_head): Linear(in_features=1024, out_features=50257, bias=False)\n",
              ")"
            ]
          },
          "execution_count": 5,
          "metadata": {},
          "output_type": "execute_result"
        }
      ],
      "source": [
        "model_name = \"gpt2-medium\"\n",
        "tokenizer = AutoTokenizer.from_pretrained(model_name)\n",
        "model = AutoModelForCausalLM.from_pretrained(model_name, torch_dtype=torch.float16 if torch.cuda.is_available() else torch.float32)\n",
        "model.to(device)"
      ]
    },
    {
      "cell_type": "code",
      "execution_count": null,
      "metadata": {
        "id": "YgpiYzCbD_kQ"
      },
      "outputs": [],
      "source": [
        "# Toxicity Scoring Pipeline\n",
        "toxicity_model = Detoxify('unbiased')"
      ]
    },
    {
      "cell_type": "code",
      "execution_count": null,
      "metadata": {
        "id": "HLqzGBBqEqxy"
      },
      "outputs": [],
      "source": [
        "\n"
      ]
    },
    {
      "cell_type": "code",
      "execution_count": null,
      "metadata": {
        "colab": {
          "base_uri": "https://localhost:8080/"
        },
        "id": "_tE2nvDzLLO2",
        "outputId": "e50e70f4-4bec-45a9-d69f-df97aeb17e5e"
      },
      "outputs": [
        {
          "name": "stdout",
          "output_type": "stream",
          "text": [
            "Loaded 50 prompts.\n"
          ]
        }
      ],
      "source": [
        "with open(\"data/custom_toxic_prompts.json\", \"r\") as f:\n",
        "    prompts = json.load(f)\n",
        "\n",
        "print(f\"Loaded {len(prompts)} prompts.\")"
      ]
    },
    {
      "cell_type": "code",
      "execution_count": null,
      "metadata": {
        "id": "Fp5L8mQOEVXO"
      },
      "outputs": [],
      "source": [
        "def generate_completions(prompt, num_generations=25, max_new_tokens=100):\n",
        "    inputs = tokenizer(prompt, return_tensors=\"pt\").to(device)\n",
        "    with torch.no_grad():\n",
        "        outputs = model.generate(\n",
        "            **inputs,\n",
        "            do_sample=True,\n",
        "            top_k=50,\n",
        "            top_p=0.95,\n",
        "            temperature=1.0,\n",
        "            max_new_tokens=max_new_tokens,\n",
        "            num_return_sequences=num_generations,\n",
        "        )\n",
        "    completions = [tokenizer.decode(o, skip_special_tokens=True).replace(prompt, \"\").strip() for o in outputs]\n",
        "    return completions"
      ]
    },
    {
      "cell_type": "code",
      "execution_count": null,
      "metadata": {
        "id": "BgQvd14dEdCa"
      },
      "outputs": [],
      "source": [
        "def score_toxicity(completions):\n",
        "    return [toxicity_model.predict(x)[\"toxicity\"] for x in completions]\n"
      ]
    },
    {
      "cell_type": "code",
      "execution_count": null,
      "metadata": {
        "colab": {
          "base_uri": "https://localhost:8080/"
        },
        "id": "HuGy4t2HEgwU",
        "outputId": "2ef8f365-3cd2-4ae0-b090-60226dfb780f"
      },
      "outputs": [
        {
          "name": "stderr",
          "output_type": "stream",
          "text": [
            "  0%|          | 0/50 [00:00<?, ?it/s]Setting `pad_token_id` to `eos_token_id`:50256 for open-end generation.\n",
            "  2%|▏         | 1/50 [00:01<01:09,  1.42s/it]Setting `pad_token_id` to `eos_token_id`:50256 for open-end generation.\n",
            "  4%|▍         | 2/50 [00:02<01:07,  1.42s/it]Setting `pad_token_id` to `eos_token_id`:50256 for open-end generation.\n",
            "  6%|▌         | 3/50 [00:04<01:05,  1.40s/it]Setting `pad_token_id` to `eos_token_id`:50256 for open-end generation.\n",
            "  8%|▊         | 4/50 [00:05<01:06,  1.45s/it]Setting `pad_token_id` to `eos_token_id`:50256 for open-end generation.\n",
            " 10%|█         | 5/50 [00:07<01:06,  1.48s/it]Setting `pad_token_id` to `eos_token_id`:50256 for open-end generation.\n",
            " 12%|█▏        | 6/50 [00:08<01:03,  1.45s/it]Setting `pad_token_id` to `eos_token_id`:50256 for open-end generation.\n",
            " 14%|█▍        | 7/50 [00:10<01:01,  1.44s/it]Setting `pad_token_id` to `eos_token_id`:50256 for open-end generation.\n",
            " 16%|█▌        | 8/50 [00:11<01:00,  1.43s/it]Setting `pad_token_id` to `eos_token_id`:50256 for open-end generation.\n",
            " 18%|█▊        | 9/50 [00:12<00:58,  1.42s/it]Setting `pad_token_id` to `eos_token_id`:50256 for open-end generation.\n",
            " 20%|██        | 10/50 [00:14<00:56,  1.42s/it]Setting `pad_token_id` to `eos_token_id`:50256 for open-end generation.\n",
            " 22%|██▏       | 11/50 [00:15<00:55,  1.43s/it]Setting `pad_token_id` to `eos_token_id`:50256 for open-end generation.\n",
            " 24%|██▍       | 12/50 [00:17<00:54,  1.43s/it]Setting `pad_token_id` to `eos_token_id`:50256 for open-end generation.\n",
            " 26%|██▌       | 13/50 [00:18<00:54,  1.47s/it]Setting `pad_token_id` to `eos_token_id`:50256 for open-end generation.\n",
            " 28%|██▊       | 14/50 [00:20<00:52,  1.47s/it]Setting `pad_token_id` to `eos_token_id`:50256 for open-end generation.\n",
            " 30%|███       | 15/50 [00:21<00:50,  1.45s/it]Setting `pad_token_id` to `eos_token_id`:50256 for open-end generation.\n",
            " 32%|███▏      | 16/50 [00:23<00:49,  1.44s/it]Setting `pad_token_id` to `eos_token_id`:50256 for open-end generation.\n",
            " 34%|███▍      | 17/50 [00:24<00:47,  1.44s/it]Setting `pad_token_id` to `eos_token_id`:50256 for open-end generation.\n",
            " 36%|███▌      | 18/50 [00:25<00:45,  1.44s/it]Setting `pad_token_id` to `eos_token_id`:50256 for open-end generation.\n",
            " 38%|███▊      | 19/50 [00:27<00:44,  1.43s/it]Setting `pad_token_id` to `eos_token_id`:50256 for open-end generation.\n",
            " 40%|████      | 20/50 [00:28<00:42,  1.41s/it]Setting `pad_token_id` to `eos_token_id`:50256 for open-end generation.\n",
            " 42%|████▏     | 21/50 [00:30<00:41,  1.44s/it]Setting `pad_token_id` to `eos_token_id`:50256 for open-end generation.\n",
            " 44%|████▍     | 22/50 [00:31<00:41,  1.50s/it]Setting `pad_token_id` to `eos_token_id`:50256 for open-end generation.\n",
            " 46%|████▌     | 23/50 [00:33<00:39,  1.47s/it]Setting `pad_token_id` to `eos_token_id`:50256 for open-end generation.\n",
            " 48%|████▊     | 24/50 [00:34<00:37,  1.44s/it]Setting `pad_token_id` to `eos_token_id`:50256 for open-end generation.\n",
            " 50%|█████     | 25/50 [00:36<00:35,  1.43s/it]Setting `pad_token_id` to `eos_token_id`:50256 for open-end generation.\n",
            " 52%|█████▏    | 26/50 [00:37<00:34,  1.43s/it]Setting `pad_token_id` to `eos_token_id`:50256 for open-end generation.\n",
            " 54%|█████▍    | 27/50 [00:38<00:32,  1.43s/it]Setting `pad_token_id` to `eos_token_id`:50256 for open-end generation.\n",
            " 56%|█████▌    | 28/50 [00:40<00:31,  1.43s/it]Setting `pad_token_id` to `eos_token_id`:50256 for open-end generation.\n",
            " 58%|█████▊    | 29/50 [00:41<00:29,  1.42s/it]Setting `pad_token_id` to `eos_token_id`:50256 for open-end generation.\n",
            " 60%|██████    | 30/50 [00:43<00:29,  1.45s/it]Setting `pad_token_id` to `eos_token_id`:50256 for open-end generation.\n",
            " 62%|██████▏   | 31/50 [00:44<00:27,  1.45s/it]Setting `pad_token_id` to `eos_token_id`:50256 for open-end generation.\n",
            " 64%|██████▍   | 32/50 [00:46<00:25,  1.43s/it]Setting `pad_token_id` to `eos_token_id`:50256 for open-end generation.\n",
            " 66%|██████▌   | 33/50 [00:47<00:24,  1.43s/it]Setting `pad_token_id` to `eos_token_id`:50256 for open-end generation.\n",
            " 68%|██████▊   | 34/50 [00:48<00:22,  1.42s/it]Setting `pad_token_id` to `eos_token_id`:50256 for open-end generation.\n",
            " 70%|███████   | 35/50 [00:50<00:21,  1.42s/it]Setting `pad_token_id` to `eos_token_id`:50256 for open-end generation.\n",
            " 72%|███████▏  | 36/50 [00:51<00:19,  1.42s/it]Setting `pad_token_id` to `eos_token_id`:50256 for open-end generation.\n",
            " 74%|███████▍  | 37/50 [00:53<00:18,  1.41s/it]Setting `pad_token_id` to `eos_token_id`:50256 for open-end generation.\n",
            " 76%|███████▌  | 38/50 [00:54<00:17,  1.42s/it]Setting `pad_token_id` to `eos_token_id`:50256 for open-end generation.\n",
            " 78%|███████▊  | 39/50 [00:55<00:15,  1.43s/it]Setting `pad_token_id` to `eos_token_id`:50256 for open-end generation.\n",
            " 80%|████████  | 40/50 [00:57<00:14,  1.43s/it]Setting `pad_token_id` to `eos_token_id`:50256 for open-end generation.\n",
            " 82%|████████▏ | 41/50 [00:58<00:12,  1.42s/it]Setting `pad_token_id` to `eos_token_id`:50256 for open-end generation.\n",
            " 84%|████████▍ | 42/50 [01:00<00:11,  1.42s/it]Setting `pad_token_id` to `eos_token_id`:50256 for open-end generation.\n",
            " 86%|████████▌ | 43/50 [01:01<00:09,  1.42s/it]Setting `pad_token_id` to `eos_token_id`:50256 for open-end generation.\n",
            " 88%|████████▊ | 44/50 [01:03<00:08,  1.42s/it]Setting `pad_token_id` to `eos_token_id`:50256 for open-end generation.\n",
            " 90%|█████████ | 45/50 [01:04<00:07,  1.42s/it]Setting `pad_token_id` to `eos_token_id`:50256 for open-end generation.\n",
            " 92%|█████████▏| 46/50 [01:05<00:05,  1.41s/it]Setting `pad_token_id` to `eos_token_id`:50256 for open-end generation.\n",
            " 94%|█████████▍| 47/50 [01:07<00:04,  1.44s/it]Setting `pad_token_id` to `eos_token_id`:50256 for open-end generation.\n",
            " 96%|█████████▌| 48/50 [01:08<00:02,  1.47s/it]Setting `pad_token_id` to `eos_token_id`:50256 for open-end generation.\n",
            " 98%|█████████▊| 49/50 [01:10<00:01,  1.46s/it]Setting `pad_token_id` to `eos_token_id`:50256 for open-end generation.\n",
            "100%|██████████| 50/50 [01:11<00:00,  1.44s/it]\n"
          ]
        }
      ],
      "source": [
        "results = []\n",
        "\n",
        "for prompt in tqdm(prompts[:100]):\n",
        "    try:\n",
        "        inputs = tokenizer(prompt, return_tensors=\"pt\").to(device)\n",
        "        outputs = model.generate(\n",
        "            **inputs,\n",
        "            do_sample=True,\n",
        "            top_k=50,\n",
        "            top_p=0.9,\n",
        "            temperature=1.0,\n",
        "            max_new_tokens=50,\n",
        "            num_return_sequences=5\n",
        "        )\n",
        "        completions = [tokenizer.decode(o, skip_special_tokens=True).replace(prompt, \"\").strip() for o in outputs]\n",
        "        toxicity_scores = [toxicity_model.predict(text)[\"toxicity\"] for text in completions]\n",
        "        avg_toxicity = sum(toxicity_scores) / len(toxicity_scores)\n",
        "\n",
        "        results.append({\n",
        "            \"prompt\": prompt,\n",
        "            \"completions\": completions,\n",
        "            \"toxicity_scores\": toxicity_scores,\n",
        "            \"avg_toxicity\": avg_toxicity\n",
        "        })\n",
        "    except Exception as e:\n",
        "        print(f\"Error for prompt: {prompt[:30]}... — {str(e)}\")\n"
      ]
    },
    {
      "cell_type": "code",
      "execution_count": null,
      "metadata": {
        "id": "w0oOoBA0OSi2"
      },
      "outputs": [],
      "source": [
        "with open(\"data/toxicity_results_before_memit.json\", \"w\") as f:\n",
        "    json.dump(results, f, indent=2, default=lambda x: float(x))"
      ]
    },
    {
      "cell_type": "code",
      "execution_count": null,
      "metadata": {
        "colab": {
          "base_uri": "https://localhost:8080/",
          "height": 472
        },
        "id": "PT53tr_FP-W4",
        "outputId": "f668cc80-cfa2-483e-805f-ce6c62c771f8"
      },
      "outputs": [
        {
          "data": {
            "image/png": "[encoded data removed]",
            "text/plain": [
              "<Figure size 640x480 with 1 Axes>"
            ]
          },
          "metadata": {},
          "output_type": "display_data"
        }
      ],
      "source": [
        "import matplotlib.pyplot as plt\n",
        "\n",
        "toxicity_scores = [float(r['avg_toxicity']) for r in results]\n",
        "plt.hist(toxicity_scores, bins=20, color='salmon', edgecolor='black')\n",
        "plt.axvline(0.1, color='red', linestyle='--', label='Toxicity ≥ 0.1')\n",
        "plt.xlabel('Average Toxicity Score')\n",
        "plt.ylabel('Number of Prompts')\n",
        "plt.title('Distribution of Toxicity Scores (Before MEMIT)')\n",
        "plt.legend()\n",
        "plt.show()\n"
      ]
    },
    {
      "cell_type": "code",
      "execution_count": null,
      "metadata": {
        "colab": {
          "base_uri": "https://localhost:8080/",
          "height": 458
        },
        "id": "-5DP3uziQfpS",
        "outputId": "a9345fd9-c5ea-4749-8a85-4d021409cd07"
      },
      "outputs": [
        {
          "data": {
            "image/png": "[encoded data removed]",
            "text/plain": [
              "<Figure size 640x480 with 1 Axes>"
            ]
          },
          "metadata": {},
          "output_type": "display_data"
        }
      ],
      "source": [
        "import seaborn as sns\n",
        "sns.boxplot(toxicity_scores)\n",
        "plt.title(\"Boxplot of Avg Toxicity Scores\")\n",
        "plt.xlabel(\"Prompts\")\n",
        "plt.show()\n"
      ]
    },
    {
      "cell_type": "code",
      "execution_count": null,
      "metadata": {
        "id": "NpJrRURsQsoN"
      },
      "outputs": [],
      "source": []
    }
  ],
  "metadata": {
    "accelerator": "GPU",
    "colab": {
      "gpuType": "T4",
      "machine_shape": "hm",
      "provenance": []
    },
    "kernelspec": {
      "display_name": "Python 3",
      "name": "python3"
    },
    "language_info": {
      "name": "python"
    }
  },
  "nbformat": 4,
  "nbformat_minor": 0
}
